{
 "cells": [
  {
   "cell_type": "code",
   "execution_count": 1,
   "metadata": {},
   "outputs": [],
   "source": [
    "import numpy as np\n",
    "import matplotlib.pyplot as plt\n",
    "import scipy as sp\n",
    "import h5py\n",
    "\n",
    "import DMsimulator as DMsim\n",
    "import DMerror as DMerr\n"
   ]
  },
  {
   "cell_type": "code",
   "execution_count": 2,
   "metadata": {},
   "outputs": [],
   "source": [
    "\n",
    "#########* Constants and fixed parameters of the model\n",
    "const_dict = {\n",
    "        \"F0\": 1.5e15,           # cm^-2\n",
    "        \"S0\": 3e13,             # cm^-2\n",
    "        \n",
    "        \"R\": 0.00831442,        # kJ/mol*K\n",
    "        \"kBoltz\": 1.380649e-23, # J/K\n",
    "}\n",
    "\n",
    "#########* Steric factors reactions\n",
    "steric_dict = {\n",
    "        ###* Atomic oxygen\n",
    "        \"SF_O_F\": 1.0, \"SF_O_S\": 1.0, \"SF_O_SO\": 1.0, \"SF_O_FO\": 1.0,\n",
    "        \"SF_FO_S\": 1.0, \"SF_FO_SO\": 1.0, \"SF_FO_FO\": 1.0, \"SF_FO\": 1.0,\n",
    "        \n",
    "        ###* Molecular oxygen\n",
    "        \"SF_O2_F\": 1.0, \"SF_O2_FO\": 1.0, \"SF_O2_FO2\": 1.0, \"SF_O_FO2\": 1.0,\n",
    "        \"SF_FO2_FO\": 1.0, \"SF_FO_FO2\": 1.0, \"SF_FO2\": 1.0,\n",
    "        \n",
    "        ###* Metastable species\n",
    "        \"SF_O2fast_SO\": 1.0, \"SF_Ofast_SO\": 1.0, \"SF_O2fast_S\": 1.0,  \"SF_Ofast_S\": 1.0,\n",
    "        \"SF_Ofast_Sdb\": 1.0, \"SF_Ofast_SOdb\": 1.0, \"SF_O2fast_Sdb\": 1.0, \"SF_O2fast_SOdb\": 1.0,\n",
    "        \"SF_O_Sdb\": 1.0, \"SF_O_SOdb\": 1.0, \"SF_FO_SOdb\": 1.0, \"SF_FO_Sdb\": 1.0,\n",
    "}\n",
    "\n",
    "#########* Energy barriers  --  Based Model\n",
    "energy_dict = { # kJ/mol and s^-1\n",
    "        \"E_O_F\": 0.0, \"E_O_S\": 0.0, \"E_O_SO\": 15.0, \"E_O_FO\": 0.0, \n",
    "        \"E_FO_SO\": 20.0, \"E_FO_FO\":0.0, \"E_di_O\": 15.0, \"E_de_O\": 30.0,\n",
    "        \n",
    "        \"E_O2_F\": 0.0, \"E_O2_FO\": 0.0, \"E_O2_FO2\": 0.0, \"E_O_FO2\": 0.0, \n",
    "        \"E_FO2_FO\": 0.0, \"E_FO_FO2\": 0.0, \"E_di_O2\": 15.0, \"E_de_O2\": 17.5,\n",
    "        \n",
    "        \"E_O2fast_SO\": 0.0, \"E_O2fast_S\": 0.0, \"E_O2fast_SOdb\": 0.0, \"E_O2fast_Sdb\": 0.0, \"E_Ofast_Sdb\": 0.0,\n",
    "        \"E_Ofast_SOdb\": 0.0, \"E_O_Sdb\": 0.0, \"E_O_SOdb\": 0.0, \"E_F_SOdb\": 0.0, \"E_FO_SOdb\": 0.0,\n",
    "        \"ED_db\": 14.999,\n",
    "        \n",
    "        \"nu_D\": 1.0e13, \"nu_d\": 1.0e15,\n",
    "        \n",
    "        \"Emin\": 2.90, # eV\n",
    "        \"Ealpha\": 3400.0, # K\n",
    "        \n",
    "        # \"Emin\": 2.60, # eV\n",
    "        # \"Ealpha\":  3.23383702e+03, # K\n",
    "}\n",
    "\n",
    "file_input_data = \"Experimental_data_Paper.hdf5\""
   ]
  },
  {
   "cell_type": "code",
   "execution_count": 3,
   "metadata": {},
   "outputs": [],
   "source": [
    "with h5py.File('simulations/results_TDPaperWithLowPressureOptimizedCheck.hdf5', 'r') as f:\n",
    "    \n",
    "    exp_data = f['exp_data'][:]\n",
    "    gammas_data = f['gammas_data'][:]\n",
    "    gammas_names = f['gammas_names'][:].astype(str)\n",
    "    exp_names = f['exp_names'][:].astype(str)\n",
    "    recProbExp = f['recProbExp'][:]\n",
    "    \n",
    "    f.close()\n",
    "\n",
    "\n",
    "Tnw_vec = exp_data[:, 0]\n",
    "Tw_vec = exp_data[:, 1]\n",
    "pressure_vec = exp_data[:, 3]\n",
    "current_vec = exp_data[:, 4]\n",
    "gammas_exp_vec = recProbExp"
   ]
  },
  {
   "cell_type": "code",
   "execution_count": 4,
   "metadata": {},
   "outputs": [
    {
     "name": "stdout",
     "output_type": "stream",
     "text": [
      "gammas_exp_vec (66,)\n",
      "gammas_data (66, 12)\n"
     ]
    }
   ],
   "source": [
    "print(\"gammas_exp_vec\", gammas_exp_vec.shape)\n",
    "print(\"gammas_data\", gammas_data.shape)"
   ]
  },
  {
   "cell_type": "code",
   "execution_count": 5,
   "metadata": {},
   "outputs": [],
   "source": [
    "\n",
    "class MyErrorModel(DMerr.ErrorPropagation):\n",
    "    \n",
    "    def modify_energy_dict(self, counter):\n",
    "    \n",
    "        A = 2.74332762e-03\n",
    "        B = 6.23703570e-04 \n",
    "        E_nu_d = 1.68496853e+01\n",
    "        \n",
    "        Ealpha = 3.26673523e+03 \n",
    "        Emin = 2.70000000e+00 \n",
    "        ED_db = 1.00000000e+01\n",
    "        \n",
    "        Tw = self.input_data_dict[counter]['Tw']\n",
    "        R = self.const_dict['R']\n",
    "        \n",
    "        \n",
    "        nu_d = 1e15 * (A + B * np.exp(E_nu_d / (R * Tw)))\n",
    "        \n",
    "        self.energy_dict_base['nu_d'] = nu_d\n",
    "        self.energy_dict_base['Ealpha'] = Ealpha\n",
    "        self.energy_dict_base['Emin'] = Emin\n",
    "        self.energy_dict_base['ED_db'] = ED_db\n",
    "        \n",
    "        return self.energy_dict_base"
   ]
  },
  {
   "cell_type": "code",
   "execution_count": 6,
   "metadata": {},
   "outputs": [],
   "source": [
    "system  = MyErrorModel(const_dict, steric_dict, energy_dict, file_input_data)"
   ]
  },
  {
   "cell_type": "code",
   "execution_count": 7,
   "metadata": {},
   "outputs": [],
   "source": [
    "\n",
    "std_input_ratios_dict = {\n",
    "    # 'Tnw': 0.02, # lowx\n",
    "    # 'Tw': 0.01, # low\n",
    "    'O_den': 0.1,\n",
    "    'N_den': 0.1\n",
    "}\n",
    "\n",
    "# std_input_ratios_dict = {\n",
    "#     'O_den': 0.1\n",
    "#     ''\n",
    "# }\n"
   ]
  },
  {
   "cell_type": "code",
   "execution_count": 8,
   "metadata": {},
   "outputs": [
    {
     "name": "stdout",
     "output_type": "stream",
     "text": [
      "mean =  0.0006861495426961244\n",
      "mean squared =  4.2993187058421286e-07\n",
      "value =  0.0006861495426961244\n",
      "error =  2.8364358311853076e-15\n",
      "std:  1.6957685438931956e-05\n",
      "gammas_exp_vec =  0.0005599904512469901\n",
      "gammas_data =  0.0006829170414564586\n",
      "Tw_vec =  253.14999999999998\n",
      "pressure_vec =  0.4\n",
      "current_vec =  20.0\n"
     ]
    }
   ],
   "source": [
    "\n",
    "\n",
    "counter = 0\n",
    "\n",
    "\n",
    "func = lambda x: x\n",
    "func_squared = lambda x: x**2\n",
    "\n",
    "value_mean, error_mean = system.compute_mean_func_output(func, std_input_ratios_dict, counter)\n",
    "\n",
    "print(\"mean = \", value_mean)\n",
    "value_squared_mean, error_squared_mean = system.compute_mean_func_output(func_squared, std_input_ratios_dict, counter)\n",
    "\n",
    "print(\"mean squared = \", value_squared_mean)\n",
    "\n",
    "print(\"value = \", value_mean)\n",
    "print(\"error = \", error_mean)\n",
    "\n",
    "print(\"std: \", np.sqrt(error_squared_mean - error_mean**2))\n",
    "\n",
    "\n",
    "print(\"gammas_exp_vec = \", gammas_exp_vec[counter])\n",
    "print(\"gammas_data = \", np.sum(gammas_data[counter]))\n",
    "print(\"Tw_vec = \", Tw_vec[counter])\n",
    "print(\"pressure_vec = \", pressure_vec[counter])\n",
    "print(\"current_vec = \", current_vec[counter])"
   ]
  },
  {
   "cell_type": "code",
   "execution_count": 9,
   "metadata": {},
   "outputs": [
    {
     "name": "stdout",
     "output_type": "stream",
     "text": [
      "value =  0.001052431639330266\n",
      "error =  5.104823945250214e-15\n",
      "std:  3.368922858773147e-05\n",
      "gammas_exp_vec =  0.0011586621617581633\n",
      "gammas_data =  0.00105251856554718\n",
      "Tw_vec =  253.14999999999998\n",
      "pressure_vec =  1.5\n",
      "current_vec =  40.0\n"
     ]
    }
   ],
   "source": [
    "\n",
    "\n",
    "counter = 10\n",
    "\n",
    "\n",
    "func = lambda x: x\n",
    "func_squared = lambda x: x**2\n",
    "\n",
    "value_mean, error_mean = system.compute_mean_func_output(func, std_input_ratios_dict, counter)\n",
    "value_squared_mean, error_squared_mean = system.compute_mean_func_output(func_squared, std_input_ratios_dict, counter)\n",
    "\n",
    "print(\"value = \", value_mean)\n",
    "print(\"error = \", error_mean)\n",
    "\n",
    "print(\"std: \", np.sqrt(error_squared_mean - error_mean**2))\n",
    "\n",
    "\n",
    "print(\"gammas_exp_vec = \", gammas_exp_vec[counter])\n",
    "print(\"gammas_data = \", np.sum(gammas_data[counter]))\n",
    "print(\"Tw_vec = \", Tw_vec[counter])\n",
    "print(\"pressure_vec = \", pressure_vec[counter])\n",
    "print(\"current_vec = \", current_vec[counter])"
   ]
  },
  {
   "cell_type": "code",
   "execution_count": 10,
   "metadata": {},
   "outputs": [
    {
     "name": "stdout",
     "output_type": "stream",
     "text": [
      "value =  0.0013412716640715193\n",
      "error =  6.476754421951177e-15\n",
      "std:  4.086193149425903e-05\n",
      "gammas_exp_vec =  0.0015278395370210555\n",
      "gammas_data =  0.0013411094471896044\n",
      "Tw_vec =  323.15\n",
      "pressure_vec =  7.5\n",
      "current_vec =  40.0\n"
     ]
    }
   ],
   "source": [
    "\n",
    "counter = -1\n",
    "\n",
    "\n",
    "func = lambda x: x\n",
    "func_squared = lambda x: x**2\n",
    "\n",
    "value_mean, error_mean = system.compute_mean_func_output(func, std_input_ratios_dict, counter)\n",
    "value_squared_mean, error_squared_mean = system.compute_mean_func_output(func_squared, std_input_ratios_dict, counter)\n",
    "\n",
    "print(\"value = \", value_mean)\n",
    "print(\"error = \", error_mean)\n",
    "\n",
    "print(\"std: \", np.sqrt(error_squared_mean - error_mean**2))\n",
    "\n",
    "\n",
    "print(\"gammas_exp_vec = \", gammas_exp_vec[counter])\n",
    "print(\"gammas_data = \", np.sum(gammas_data[counter]))\n",
    "print(\"Tw_vec = \", Tw_vec[counter])\n",
    "print(\"pressure_vec = \", pressure_vec[counter])\n",
    "print(\"current_vec = \", current_vec[counter])"
   ]
  }
 ],
 "metadata": {
  "kernelspec": {
   "display_name": "LLM",
   "language": "python",
   "name": "python3"
  },
  "language_info": {
   "codemirror_mode": {
    "name": "ipython",
    "version": 3
   },
   "file_extension": ".py",
   "mimetype": "text/x-python",
   "name": "python",
   "nbconvert_exporter": "python",
   "pygments_lexer": "ipython3",
   "version": "3.12.7"
  }
 },
 "nbformat": 4,
 "nbformat_minor": 2
}
