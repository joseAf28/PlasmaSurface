{
 "cells": [
  {
   "cell_type": "code",
   "execution_count": 1,
   "metadata": {},
   "outputs": [],
   "source": [
    "import scipy as sp\n",
    "import matplotlib.pyplot as plt\n",
    "import pandas as pd\n",
    "import os\n",
    "import h5py\n",
    "import numpy as np"
   ]
  },
  {
   "cell_type": "code",
   "execution_count": 2,
   "metadata": {},
   "outputs": [
    {
     "name": "stdout",
     "output_type": "stream",
     "text": [
      "['Experimental_data_TD/TDset_oxygen_Tw-20.xlsx', 'Experimental_data_TD/TDset_oxygen_Tw25.xlsx', 'Experimental_data_TD/TDset_oxygen_Tw5.xlsx', 'Experimental_data_TD/TDset_oxygen_Tw50.xlsx']\n"
     ]
    }
   ],
   "source": [
    "folder_path = \"Experimental_data_TD\"\n",
    "file_name_list = os.listdir(folder_path)\n",
    "filename_path = [os.path.join(folder_path, file_name) for file_name in file_name_list if file_name.endswith(\".xlsx\")]\n",
    "print(filename_path)\n"
   ]
  },
  {
   "cell_type": "code",
   "execution_count": 3,
   "metadata": {},
   "outputs": [
    {
     "name": "stdout",
     "output_type": "stream",
     "text": [
      "4\n"
     ]
    }
   ],
   "source": [
    "print(len(filename_path))"
   ]
  },
  {
   "cell_type": "code",
   "execution_count": 4,
   "metadata": {},
   "outputs": [
    {
     "name": "stdout",
     "output_type": "stream",
     "text": [
      "['Experimental_data_TD/TDset_oxygen_Tw-20.xlsx', 'Experimental_data_TD/TDset_oxygen_Tw25.xlsx', 'Experimental_data_TD/TDset_oxygen_Tw5.xlsx', 'Experimental_data_TD/TDset_oxygen_Tw50.xlsx']\n",
      "['Experimental_data_TD/TDset_oxygen_Tw-20.xlsx', 'Experimental_data_TD/TDset_oxygen_Tw25.xlsx', 'Experimental_data_TD/TDset_oxygen_Tw5.xlsx', 'Experimental_data_TD/TDset_oxygen_Tw50.xlsx']\n"
     ]
    }
   ],
   "source": [
    "print(filename_path)\n",
    "# filename_path = filename_path[1:]\n",
    "# filename_path = [filename_path[0]]\n",
    "print(filename_path)"
   ]
  },
  {
   "cell_type": "code",
   "execution_count": 5,
   "metadata": {},
   "outputs": [
    {
     "name": "stdout",
     "output_type": "stream",
     "text": [
      "File:  Experimental_data_TD/TDset_oxygen_Tw-20.xlsx\n",
      "[257.57175514 259.71891904 262.06410587 267.09906212 271.60300044\n",
      " 276.18416864 259.29651911 264.09946957 268.46158067 271.50117368\n",
      " 276.41384452 282.2238784  290.28079366 303.3456111  315.12752448]\n",
      "\n",
      "File:  Experimental_data_TD/TDset_oxygen_Tw25.xlsx\n",
      "[302.57175514 304.71891904 307.06410587 308.58711704 312.09906212\n",
      " 316.60300044 321.18416864 329.85776028 304.29651911 309.09946957\n",
      " 313.46158067 316.50117368 321.41384452 327.2238784  335.28079366\n",
      " 348.3456111  360.12752448]\n",
      "\n",
      "File:  Experimental_data_TD/TDset_oxygen_Tw5.xlsx\n",
      "[282.57175514 284.71891904 287.06410587 288.58711704 292.09906212\n",
      " 296.60300044 301.18416864 309.85776028 284.29651911 289.09946957\n",
      " 293.46158067 296.50117368 301.41384452 307.2238784  315.28079366\n",
      " 328.3456111  340.12752448]\n",
      "\n",
      "File:  Experimental_data_TD/TDset_oxygen_Tw50.xlsx\n",
      "[327.57175514 329.71891904 332.06410587 333.58711704 337.09906212\n",
      " 341.60300044 346.18416864 354.85776028 329.29651911 334.09946957\n",
      " 338.46158067 341.50117368 346.41384452 352.2238784  360.28079366\n",
      " 373.3456111  385.12752448          nan          nan          nan\n",
      "          nan]\n",
      "\n"
     ]
    }
   ],
   "source": [
    "columns_of_interest = ['Pressure(torr)', 'Current(mA)', 'Twall', 'fracO2', 'lossFreqExp', 'recProbExp', 'TgasExp', 'TnwExp', 'OmeanExp']\n",
    "\n",
    "pressure_data = []\n",
    "current_data = []\n",
    "Twall_data = []\n",
    "fracO2_data = []\n",
    "lossFreqExp_data = []\n",
    "recProbExp_data = []\n",
    "TgasExp_data = []\n",
    "TnwExp_data = []\n",
    "OmeanExp_data = []\n",
    "\n",
    "### read data from the excel file\n",
    "for i in range(len(filename_path)):\n",
    "\n",
    "    df = pd.read_excel(filename_path[i])\n",
    "    dt_mod = df[columns_of_interest]\n",
    "\n",
    "    pressure_aux = dt_mod[columns_of_interest[0]].to_numpy()\n",
    "    current_aux = dt_mod[columns_of_interest[1]].to_numpy()\n",
    "    Twall_aux = dt_mod[columns_of_interest[2]].to_numpy() + 273.15\n",
    "    fracO2_aux = dt_mod[columns_of_interest[3]].to_numpy()\n",
    "    lossFreqExp_aux = dt_mod[columns_of_interest[4]].to_numpy()\n",
    "    recProbExp_aux = dt_mod[columns_of_interest[5]].to_numpy()\n",
    "    TgasExp_aux = dt_mod[columns_of_interest[6]].to_numpy()\n",
    "    TnwExp_aux = dt_mod[columns_of_interest[7]].to_numpy()\n",
    "    OmeanExp_aux = dt_mod[columns_of_interest[8]].to_numpy()\n",
    "    \n",
    "    \n",
    "    print(\"File: \", filename_path[i])\n",
    "    print(TnwExp_aux)\n",
    "    print()\n",
    "    \n",
    "    pressure_data.append(pressure_aux[~np.isnan(pressure_aux)])\n",
    "    current_data.append(current_aux[~np.isnan(current_aux)])\n",
    "    Twall_data.append(Twall_aux[~np.isnan(Twall_aux)])\n",
    "    fracO2_data.append(fracO2_aux[~np.isnan(fracO2_aux)])\n",
    "    lossFreqExp_data.append(lossFreqExp_aux[~np.isnan(lossFreqExp_aux)])\n",
    "    recProbExp_data.append(recProbExp_aux[~np.isnan(recProbExp_aux)])\n",
    "    TgasExp_data.append(TgasExp_aux[~np.isnan(TgasExp_aux)])\n",
    "    TnwExp_data.append(TnwExp_aux[~np.isnan(TnwExp_aux)])\n",
    "    OmeanExp_data.append(OmeanExp_aux[~np.isnan(OmeanExp_aux)])\n",
    "\n",
    "pressure_data = np.concatenate(pressure_data)\n",
    "current_data = np.concatenate(current_data)\n",
    "Twall_data = np.concatenate(Twall_data)\n",
    "fracO2_data = np.concatenate(fracO2_data)\n",
    "lossFreqExp_data = np.concatenate(lossFreqExp_data)\n",
    "recProbExp_data = np.concatenate(recProbExp_data)\n",
    "TgasExp_data = np.concatenate(TgasExp_data)\n",
    "TnwExp_data = np.concatenate(TnwExp_data)\n",
    "OmeanExp_data = np.concatenate(OmeanExp_data)\n",
    "\n"
   ]
  },
  {
   "cell_type": "code",
   "execution_count": 6,
   "metadata": {},
   "outputs": [],
   "source": [
    "### creat a hdf5 file to store the data\n",
    "hdf5_file = \"Experimental_data_TD.hdf5\"\n",
    "\n",
    "with h5py.File(hdf5_file, 'w') as f:\n",
    "    f.create_dataset(\"Pressure\", data=pressure_data)\n",
    "    f.create_dataset(\"Current\", data=current_data)\n",
    "    f.create_dataset(\"Twall\", data=Twall_data)\n",
    "    f.create_dataset(\"fracO2\", data=fracO2_data)\n",
    "    f.create_dataset(\"lossFreqExp\", data=lossFreqExp_data)\n",
    "    f.create_dataset(\"recProbExp\", data=recProbExp_data)\n",
    "    f.create_dataset(\"TgasExp\", data=TgasExp_data)\n",
    "    f.create_dataset(\"TnwExp\", data=TnwExp_data)\n",
    "    f.create_dataset(\"OmeanExp\", data=OmeanExp_data)\n",
    "    \n",
    "    f.close()"
   ]
  },
  {
   "cell_type": "code",
   "execution_count": 7,
   "metadata": {},
   "outputs": [
    {
     "data": {
      "image/png": "[encoded data removed]",
      "text/plain": [
       "<Figure size 640x480 with 1 Axes>"
      ]
     },
     "metadata": {},
     "output_type": "display_data"
    }
   ],
   "source": [
    "\n",
    "p_data_exp = [0.2, 0.3, 0.4, 0.5, 0.6, 0.75, 1.5]\n",
    "EavgMB_data = [1.04, 0.91, 0.87, 0.83, 0.77, 0.5, 0.001]\n",
    "interpolator = sp.interpolate.interp1d(p_data_exp, EavgMB_data, kind='linear', fill_value=0.001, bounds_error=False)\n",
    "\n",
    "\n",
    "x_test = np.linspace(0.2, 3.5, 100)\n",
    "y_test = interpolator(x_test)\n",
    "\n",
    "plt.plot(p_data_exp, EavgMB_data, '.')\n",
    "plt.plot(x_test, y_test, '-')\n",
    "plt.grid()"
   ]
  },
  {
   "cell_type": "code",
   "execution_count": null,
   "metadata": {},
   "outputs": [],
   "source": []
  }
 ],
 "metadata": {
  "kernelspec": {
   "display_name": "LLM",
   "language": "python",
   "name": "python3"
  },
  "language_info": {
   "codemirror_mode": {
    "name": "ipython",
    "version": 3
   },
   "file_extension": ".py",
   "mimetype": "text/x-python",
   "name": "python",
   "nbconvert_exporter": "python",
   "pygments_lexer": "ipython3",
   "version": "3.12.7"
  }
 },
 "nbformat": 4,
 "nbformat_minor": 2
}
